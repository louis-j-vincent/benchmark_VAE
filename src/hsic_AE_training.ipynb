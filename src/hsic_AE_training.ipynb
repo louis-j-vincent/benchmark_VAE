{
 "cells": [
  {
   "cell_type": "code",
   "execution_count": 1,
   "metadata": {
    "id": "tV64Au2I804z"
   },
   "outputs": [],
   "source": [
    "import torch\n",
    "import torchvision.datasets as datasets\n",
    "\n",
    "device = torch.device('mps')\n",
    "\n",
    "%load_ext autoreload\n",
    "%autoreload 2"
   ]
  },
  {
   "cell_type": "code",
   "execution_count": 2,
   "metadata": {
    "id": "5yvBWoo4804z"
   },
   "outputs": [],
   "source": [
    "mnist_trainset = datasets.MNIST(root='../../data', train=True, download=True, transform=None)\n",
    "\n",
    "train_dataset = mnist_trainset.data[:-10000].reshape(-1, 1, 28, 28) / 255.\n",
    "eval_dataset = mnist_trainset.data[-10000:].reshape(-1, 1, 28, 28) / 255."
   ]
  },
  {
   "cell_type": "code",
   "execution_count": 3,
   "metadata": {
    "id": "Df5uuFCF-O1-"
   },
   "outputs": [],
   "source": [
    "import numpy as np\n",
    "\n",
    "##corrupt data\n",
    "def corrupt_data(data):\n",
    "    data[data>0.9] = 1\n",
    "    data[data<0.9] = 0\n",
    "    square_size = data.shape[-1]\n",
    "    center_coord = np.random.randint(0,square_size,(2,data.shape[0]))\n",
    "    square_size = np.repeat(np.random.randint(0,square_size//2,data.shape[0]).reshape(1,-1),2,axis=0)\n",
    "    upper_left_coord = np.minimum(np.maximum(center_coord - (square_size//2),0),square_size)\n",
    "    for i in range(data.shape[0]):\n",
    "        data[i,:,upper_left_coord[0,i]:upper_left_coord[0,i]+square_size[0,i],upper_left_coord[1,i]:upper_left_coord[1,i]+square_size[1,i]] = -10\n",
    "    return data\n",
    "\n",
    "train_dataset = corrupt_data(train_dataset)\n",
    "eval_dataset = corrupt_data(eval_dataset)"
   ]
  },
  {
   "cell_type": "code",
   "execution_count": 50,
   "metadata": {
    "id": "NDKeAkzc804z"
   },
   "outputs": [],
   "source": [
    "from pythae.models import IC_AE, IC_AEConfig\n",
    "from pythae.trainers import BaseTrainerConfig\n",
    "from pythae.pipelines.training import TrainingPipeline\n",
    "from pythae.models.nn.benchmarks.mnist import Encoder_vAE_MNIST, Decoder_AE_MNIST\n",
    "#from pythae.models.nn import Encoder_vAE"
   ]
  },
  {
   "cell_type": "code",
   "execution_count": 55,
   "metadata": {
    "id": "r_AiEKrO8040"
   },
   "outputs": [],
   "source": [
    "config = BaseTrainerConfig(\n",
    "    output_dir='my_model',\n",
    "    learning_rate=1e-4,\n",
    "    batch_size=500,\n",
    "    num_epochs=10, # Change this to train the model a bit more\n",
    ")\n",
    "\n",
    "\n",
    "model_config = IC_AEConfig(\n",
    "    input_dim=(1, 28, 28),\n",
    "    latent_dim=32\n",
    ")\n",
    "\n",
    "model = IC_AE(\n",
    "    model_config=model_config\n",
    ")\n",
    "model = model.to(device)"
   ]
  },
  {
   "cell_type": "code",
   "execution_count": 36,
   "metadata": {},
   "outputs": [],
   "source": [
    "model.nU = 5\n",
    "model.beta = 1"
   ]
  },
  {
   "cell_type": "code",
   "execution_count": 56,
   "metadata": {
    "id": "choo34Ue8040"
   },
   "outputs": [],
   "source": [
    "pipeline = TrainingPipeline(\n",
    "    training_config=config,\n",
    "    model=model\n",
    ")"
   ]
  },
  {
   "cell_type": "code",
   "execution_count": 57,
   "metadata": {
    "colab": {
     "base_uri": "https://localhost:8080/"
    },
    "id": "7PYuekm38040",
    "outputId": "de44f895-b35e-42a8-f69d-775ab4180fc9"
   },
   "outputs": [
    {
     "name": "stderr",
     "output_type": "stream",
     "text": [
      "Preprocessing train data...\n",
      "Preprocessing eval data...\n",
      "\n",
      "Using Base Trainer\n",
      "\n",
      "Model passed sanity check !\n",
      "\n",
      "Created my_model/AE_training_2022-12-13_21-54-20. \n",
      "Training config, checkpoints and final model will be saved here.\n",
      "\n",
      "Successfully launched training !\n",
      "\n",
      "Training of epoch 1/10:   0%|                        | 0/100 [00:00<?, ?batch/s]\n",
      "Training of epoch 1/10: 100%|██████████████| 100/100 [00:07<00:00, 13.14batch/s]\u001b[A\n",
      "Eval of epoch 1/10:   5%|█                    | 1/20 [00:07<02:23,  7.54s/batch]\u001b[A\n",
      "Eval of epoch 1/10:  25%|█████▎               | 5/20 [00:07<00:17,  1.15s/batch]\u001b[A\n",
      "Eval of epoch 1/10:  45%|█████████▍           | 9/20 [00:07<00:05,  1.88batch/s]\u001b[A\n",
      "Eval of epoch 1/10:  65%|█████████████       | 13/20 [00:07<00:02,  3.23batch/s]\u001b[A\n",
      "Training of epoch 1/10: 100%|██████████████| 100/100 [00:08<00:00, 12.44batch/s]\u001b[A\n",
      "Eval of epoch 1/10: 100%|████████████████████| 20/20 [00:08<00:00,  2.49batch/s]\n",
      "--------------------------------------------------------------------------\n",
      "Train loss: 120.31\n",
      "Eval loss: 68.3116\n",
      "--------------------------------------------------------------------------\n",
      "Training of epoch 2/10:   0%|                        | 0/100 [00:00<?, ?batch/s]\n",
      "Training of epoch 2/10: 100%|██████████████| 100/100 [00:06<00:00, 13.38batch/s]\u001b[A\n",
      "Eval of epoch 2/10:   5%|█                    | 1/20 [00:06<02:11,  6.94s/batch]\u001b[A\n",
      "Eval of epoch 2/10:  25%|█████▎               | 5/20 [00:07<00:15,  1.06s/batch]\u001b[A\n",
      "Eval of epoch 2/10:  45%|█████████▍           | 9/20 [00:07<00:05,  2.03batch/s]\u001b[A\n",
      "Eval of epoch 2/10:  65%|█████████████       | 13/20 [00:07<00:02,  3.45batch/s]\u001b[A\n",
      "Training of epoch 2/10: 100%|██████████████| 100/100 [00:07<00:00, 13.37batch/s]\u001b[A\n",
      "Eval of epoch 2/10: 100%|████████████████████| 20/20 [00:07<00:00,  2.67batch/s]\n",
      "--------------------------------------------------------------------------\n",
      "Train loss: 59.8474\n",
      "Eval loss: 55.393\n",
      "--------------------------------------------------------------------------\n",
      "Training of epoch 3/10:   0%|                        | 0/100 [00:00<?, ?batch/s]\n",
      "Training of epoch 3/10: 100%|██████████████| 100/100 [00:07<00:00, 14.46batch/s]\u001b[A\n",
      "Eval of epoch 3/10:   5%|█                    | 1/20 [00:07<02:14,  7.07s/batch]\u001b[A\n",
      "Eval of epoch 3/10:  25%|█████▎               | 5/20 [00:07<00:16,  1.08s/batch]\u001b[A\n",
      "Eval of epoch 3/10:  45%|█████████▍           | 9/20 [00:07<00:05,  1.99batch/s]\u001b[A\n",
      "Eval of epoch 3/10:  65%|█████████████       | 13/20 [00:07<00:02,  3.40batch/s]\u001b[A\n",
      "Training of epoch 3/10: 100%|██████████████| 100/100 [00:07<00:00, 13.12batch/s]\u001b[A\n",
      "Eval of epoch 3/10: 100%|████████████████████| 20/20 [00:07<00:00,  2.62batch/s]\n",
      "--------------------------------------------------------------------------\n",
      "Train loss: 53.1381\n",
      "Eval loss: 50.9173\n",
      "--------------------------------------------------------------------------\n",
      "Training of epoch 4/10:   0%|                        | 0/100 [00:00<?, ?batch/s]\n",
      "Training of epoch 4/10: 100%|██████████████| 100/100 [00:07<00:00, 13.59batch/s]\u001b[A\n",
      "Eval of epoch 4/10:   5%|█                    | 1/20 [00:07<02:23,  7.57s/batch]\u001b[A\n",
      "Eval of epoch 4/10:  30%|██████▎              | 6/20 [00:07<00:13,  1.05batch/s]\u001b[A\n",
      "Eval of epoch 4/10:  50%|██████████          | 10/20 [00:07<00:04,  2.05batch/s]\u001b[A\n",
      "Eval of epoch 4/10:  75%|███████████████     | 15/20 [00:07<00:01,  3.69batch/s]\u001b[A\n",
      "Training of epoch 4/10: 100%|██████████████| 100/100 [00:08<00:00, 12.41batch/s]\u001b[A\n",
      "Eval of epoch 4/10: 100%|████████████████████| 20/20 [00:08<00:00,  2.48batch/s]\n",
      "--------------------------------------------------------------------------\n",
      "Train loss: 49.9622\n",
      "Eval loss: 48.9677\n",
      "--------------------------------------------------------------------------\n",
      "Training of epoch 5/10:   0%|                        | 0/100 [00:00<?, ?batch/s]\n",
      "Training of epoch 5/10: 100%|██████████████| 100/100 [00:06<00:00, 15.46batch/s]\u001b[A\n",
      "Eval of epoch 5/10:   5%|█                    | 1/20 [00:06<02:06,  6.65s/batch]\u001b[A\n",
      "Eval of epoch 5/10:  30%|██████▎              | 6/20 [00:06<00:11,  1.19batch/s]\u001b[A\n",
      "Eval of epoch 5/10:  55%|███████████         | 11/20 [00:06<00:03,  2.60batch/s]\u001b[A\n",
      "Eval of epoch 5/10:  75%|███████████████     | 15/20 [00:06<00:01,  4.09batch/s]\u001b[A\n",
      "Training of epoch 5/10: 100%|██████████████| 100/100 [00:07<00:00, 14.05batch/s]\u001b[A\n",
      "Eval of epoch 5/10: 100%|████████████████████| 20/20 [00:07<00:00,  2.81batch/s]\n",
      "--------------------------------------------------------------------------\n",
      "Train loss: 48.7092\n",
      "Eval loss: 48.2655\n",
      "--------------------------------------------------------------------------\n",
      "Training of epoch 6/10:   0%|                        | 0/100 [00:00<?, ?batch/s]\n",
      "Training of epoch 6/10: 100%|██████████████| 100/100 [00:06<00:00, 15.66batch/s]\u001b[A\n",
      "Eval of epoch 6/10:   5%|█                    | 1/20 [00:06<02:02,  6.45s/batch]\u001b[A\n",
      "Eval of epoch 6/10:  30%|██████▎              | 6/20 [00:06<00:11,  1.23batch/s]\u001b[A\n",
      "Eval of epoch 6/10:  55%|███████████         | 11/20 [00:06<00:03,  2.67batch/s]\u001b[A\n",
      "Eval of epoch 6/10:  75%|███████████████     | 15/20 [00:06<00:01,  4.19batch/s]\u001b[A\n",
      "Training of epoch 6/10: 100%|██████████████| 100/100 [00:06<00:00, 14.44batch/s]\u001b[A\n",
      "Eval of epoch 6/10: 100%|████████████████████| 20/20 [00:06<00:00,  2.89batch/s]\n",
      "--------------------------------------------------------------------------\n",
      "Train loss: 48.1513\n",
      "Eval loss: 47.8789\n",
      "--------------------------------------------------------------------------\n",
      "Training of epoch 7/10:   0%|                        | 0/100 [00:00<?, ?batch/s]\n",
      "Training of epoch 7/10: 100%|██████████████| 100/100 [00:07<00:00, 13.06batch/s]\u001b[A\n",
      "Eval of epoch 7/10:   5%|█                    | 1/20 [00:07<02:13,  7.05s/batch]\u001b[A\n",
      "Eval of epoch 7/10:  10%|██                   | 2/20 [00:07<00:53,  2.96s/batch]\u001b[A\n",
      "Eval of epoch 7/10:  35%|███████▎             | 7/20 [00:07<00:07,  1.70batch/s]\u001b[A\n",
      "Eval of epoch 7/10:  60%|████████████        | 12/20 [00:07<00:02,  3.50batch/s]\u001b[A\n",
      "Eval of epoch 7/10:  80%|████████████████    | 16/20 [00:07<00:00,  5.35batch/s]\u001b[A\n",
      "Training of epoch 7/10: 100%|██████████████| 100/100 [00:07<00:00, 13.17batch/s]\u001b[A\n",
      "Eval of epoch 7/10: 100%|████████████████████| 20/20 [00:07<00:00,  2.64batch/s]\n",
      "--------------------------------------------------------------------------\n",
      "Train loss: 47.7473\n",
      "Eval loss: 47.5454\n",
      "--------------------------------------------------------------------------\n",
      "Training of epoch 8/10:   0%|                        | 0/100 [00:00<?, ?batch/s]\n",
      "Training of epoch 8/10: 100%|██████████████| 100/100 [00:06<00:00, 16.18batch/s]\u001b[A\n",
      "Eval of epoch 8/10:   5%|█                    | 1/20 [00:06<02:04,  6.56s/batch]\u001b[A\n",
      "Eval of epoch 8/10:  25%|█████▎               | 5/20 [00:06<00:15,  1.00s/batch]\u001b[A\n",
      "Eval of epoch 8/10:  40%|████████▍            | 8/20 [00:06<00:06,  1.85batch/s]\u001b[A\n",
      "Eval of epoch 8/10:  60%|████████████        | 12/20 [00:06<00:02,  3.38batch/s]\u001b[A\n",
      "Training of epoch 8/10: 100%|██████████████| 100/100 [00:07<00:00, 14.11batch/s]\u001b[A\n",
      "Eval of epoch 8/10: 100%|████████████████████| 20/20 [00:07<00:00,  2.82batch/s]\n",
      "--------------------------------------------------------------------------\n",
      "Train loss: 47.3897\n",
      "Eval loss: 47.2614\n",
      "--------------------------------------------------------------------------\n",
      "Training of epoch 9/10:   0%|                        | 0/100 [00:00<?, ?batch/s]\n",
      "Training of epoch 9/10: 100%|██████████████| 100/100 [00:06<00:00, 16.24batch/s]\u001b[A\n",
      "Eval of epoch 9/10:   5%|█                    | 1/20 [00:06<02:01,  6.38s/batch]\u001b[A\n",
      "Eval of epoch 9/10:  30%|██████▎              | 6/20 [00:06<00:11,  1.24batch/s]\u001b[A\n",
      "Eval of epoch 9/10:  55%|███████████         | 11/20 [00:06<00:03,  2.70batch/s]\u001b[A\n",
      "Eval of epoch 9/10:  75%|███████████████     | 15/20 [00:06<00:01,  4.23batch/s]\u001b[A\n",
      "Training of epoch 9/10: 100%|██████████████| 100/100 [00:06<00:00, 14.61batch/s]\u001b[A\n",
      "Eval of epoch 9/10: 100%|████████████████████| 20/20 [00:06<00:00,  2.92batch/s]\n",
      "--------------------------------------------------------------------------\n",
      "Train loss: 47.0297\n",
      "Eval loss: 47.1018\n",
      "--------------------------------------------------------------------------\n",
      "Training of epoch 10/10:   0%|                       | 0/100 [00:00<?, ?batch/s]\n",
      "Training of epoch 10/10: 100%|█████████████| 100/100 [00:06<00:00, 15.49batch/s]\u001b[A\n",
      "Eval of epoch 10/10:   5%|█                   | 1/20 [00:06<02:06,  6.66s/batch]\u001b[A\n",
      "Eval of epoch 10/10:  30%|██████              | 6/20 [00:06<00:11,  1.19batch/s]\u001b[A\n",
      "Eval of epoch 10/10:  55%|██████████▍        | 11/20 [00:06<00:03,  2.59batch/s]\u001b[A\n",
      "Eval of epoch 10/10:  75%|██████████████▎    | 15/20 [00:07<00:01,  4.05batch/s]\u001b[A\n",
      "Training of epoch 10/10: 100%|█████████████| 100/100 [00:07<00:00, 14.01batch/s]\u001b[A\n",
      "Eval of epoch 10/10: 100%|███████████████████| 20/20 [00:07<00:00,  2.80batch/s]\n",
      "--------------------------------------------------------------------------\n",
      "Train loss: 46.601\n",
      "Eval loss: 46.7451\n",
      "--------------------------------------------------------------------------\n",
      "Training ended!\n",
      "Saved final model in my_model/AE_training_2022-12-13_21-54-20/final_model\n"
     ]
    }
   ],
   "source": [
    "pipeline(\n",
    "    train_data=train_dataset,\n",
    "    eval_data=eval_dataset\n",
    ")"
   ]
  },
  {
   "cell_type": "code",
   "execution_count": 18,
   "metadata": {},
   "outputs": [
    {
     "data": {
      "text/plain": [
       "tensor([[[0.0000, 0.0000, 0.0000, 0.0000, 0.0000, 0.0000, 0.0000, 0.0000,\n",
       "          0.0000, 0.0000, 0.0000, 0.0000, 0.0000, 0.0000, 0.0000, 0.0000,\n",
       "          0.0000, 0.0000, 0.0000, 0.0000, 0.0000, 0.0000, 0.0000, 0.0000,\n",
       "          0.0000, 0.0000, 0.0000, 0.0000],\n",
       "         [0.0000, 0.0000, 0.0000, 0.0000, 0.0000, 0.0000, 0.0000, 0.0000,\n",
       "          0.0000, 0.0000, 0.0000, 0.0000, 0.0000, 0.0000, 0.0000, 0.0000,\n",
       "          0.0000, 0.0000, 0.0000, 0.0000, 0.0000, 0.0000, 0.0000, 0.0000,\n",
       "          0.0000, 0.0000, 0.0000, 0.0000],\n",
       "         [0.0000, 0.0000, 0.0000, 0.0000, 0.0000, 0.0000, 0.0000, 0.0000,\n",
       "          0.0000, 0.0000, 0.0000, 0.0000, 0.0000, 0.0000, 0.0000, 0.0000,\n",
       "          0.0000, 0.0000, 0.0000, 0.0000, 0.0000, 0.0000, 0.0000, 0.0000,\n",
       "          0.0000, 0.0000, 0.0000, 0.0000],\n",
       "         [0.0000, 0.0000, 0.0000, 0.0000, 0.0000, 0.0000, 0.0000, 0.0000,\n",
       "          0.0000, 0.0000, 0.0000, 0.0000, 0.0000, 0.0000, 0.0000, 0.0000,\n",
       "          0.0000, 0.0000, 0.0000, 0.0000, 0.0000, 0.0000, 0.0000, 0.0000,\n",
       "          0.0000, 0.0000, 0.0000, 0.0000],\n",
       "         [0.0000, 0.0000, 0.0000, 0.0000, 0.0000, 0.0000, 0.0000, 0.0000,\n",
       "          0.0000, 0.0000, 0.0000, 0.0000, 0.0000, 0.0000, 0.0000, 0.0000,\n",
       "          0.0000, 0.0000, 0.0000, 0.0000, 0.0000, 0.0000, 0.0000, 0.0000,\n",
       "          0.0000, 0.0000, 0.0000, 0.0000],\n",
       "         [0.0000, 0.0000, 0.0000, 0.0000, 0.0000, 0.0000, 0.0000, 0.0000,\n",
       "          0.0000, 0.0000, 0.0000, 0.0000, 0.0118, 0.0706, 0.0706, 0.0706,\n",
       "          0.4941, 0.5333, 0.6863, 0.1020, 0.6510, 1.0000, 0.9686, 0.4980,\n",
       "          0.0000, 0.0000, 0.0000, 0.0000],\n",
       "         [0.0000, 0.0000, 0.0000, 0.0000, 0.0000, 0.0000, 0.0000, 0.0000,\n",
       "          0.1176, 0.1412, 0.3686, 0.6039, 0.6667, 0.9922, 0.9922, 0.9922,\n",
       "          0.9922, 0.9922, 0.8824, 0.6745, 0.9922, 0.9490, 0.7647, 0.2510,\n",
       "          0.0000, 0.0000, 0.0000, 0.0000],\n",
       "         [0.0000, 0.0000, 0.0000, 0.0000, 0.0000, 0.0000, 0.0000, 0.1922,\n",
       "          0.9333, 0.9922, 0.9922, 0.9922, 0.9922, 0.9922, 0.9922, 0.9922,\n",
       "          0.9922, 0.9843, 0.3647, 0.3216, 0.3216, 0.2196, 0.1529, 0.0000,\n",
       "          0.0000, 0.0000, 0.0000, 0.0000],\n",
       "         [0.0000, 0.0000, 0.0000, 0.0000, 0.0000, 0.0000, 0.0000, 0.0706,\n",
       "          0.8588, 0.9922, 0.9922, 0.9922, 0.9922, 0.9922, 0.7765, 0.7137,\n",
       "          0.9686, 0.9451, 0.0000, 0.0000, 0.0000, 0.0000, 0.0000, 0.0000,\n",
       "          0.0000, 0.0000, 0.0000, 0.0000],\n",
       "         [0.0000, 0.0000, 0.0000, 0.0000, 0.0000, 0.0000, 0.0000, 0.0000,\n",
       "          0.3137, 0.6118, 0.4196, 0.9922, 0.9922, 0.8039, 0.0431, 0.0000,\n",
       "          0.1686, 0.6039, 0.0000, 0.0000, 0.0000, 0.0000, 0.0000, 0.0000,\n",
       "          0.0000, 0.0000, 0.0000, 0.0000],\n",
       "         [0.0000, 0.0000, 0.0000, 0.0000, 0.0000, 0.0000, 0.0000, 0.0000,\n",
       "          0.0000, 0.0549, 0.0039, 0.6039, 0.9922, 0.3529, 0.0000, 0.0000,\n",
       "          0.0000, 0.0000, 0.0000, 0.0000, 0.0000, 0.0000, 0.0000, 0.0000,\n",
       "          0.0000, 0.0000, 0.0000, 0.0000],\n",
       "         [0.0000, 0.0000, 0.0000, 0.0000, 0.0000, 0.0000, 0.0000, 0.0000,\n",
       "          0.0000, 0.0000, 0.0000, 0.5451, 0.9922, 0.7451, 0.0078, 0.0000,\n",
       "          0.0000, 0.0000, 0.0000, 0.0000, 0.0000, 0.0000, 0.0000, 0.0000,\n",
       "          0.0000, 0.0000, 0.0000, 0.0000],\n",
       "         [0.0000, 0.0000, 0.0000, 0.0000, 0.0000, 0.0000, 0.0000, 0.0000,\n",
       "          0.0000, 0.0000, 0.0000, 0.0431, 0.7451, 0.9922, 0.2745, 0.0000,\n",
       "          0.0000, 0.0000, 0.0000, 0.0000, 0.0000, 0.0000, 0.0000, 0.0000,\n",
       "          0.0000, 0.0000, 0.0000, 0.0000],\n",
       "         [0.0000, 0.0000, 0.0000, 0.0000, 0.0000, 0.0000, 0.0000, 0.0000,\n",
       "          0.0000, 0.0000, 0.0000, 0.0000, 0.1373, 0.9451, 0.8824, 0.6275,\n",
       "          0.4235, 0.0039, 0.0000, 0.0000, 0.0000, 0.0000, 0.0000, 0.0000,\n",
       "          0.0000, 0.0000, 0.0000, 0.0000],\n",
       "         [0.0000, 0.0000, 0.0000, 0.0000, 0.0000, 0.0000, 0.0000, 0.0000,\n",
       "          0.0000, 0.0000, 0.0000, 0.0000, 0.0000, 0.3176, 0.9412, 0.9922,\n",
       "          0.9922, 0.4667, 0.0980, 0.0000, 0.0000, 0.0000, 0.0000, 0.0000,\n",
       "          0.0000, 0.0000, 0.0000, 0.0000],\n",
       "         [0.0000, 0.0000, 0.0000, 0.0000, 0.0000, 0.0000, 0.0000, 0.0000,\n",
       "          0.0000, 0.0000, 0.0000, 0.0000, 0.0000, 0.0000, 0.1765, 0.7294,\n",
       "          0.9922, 0.9922, 0.5882, 0.1059, 0.0000, 0.0000, 0.0000, 0.0000,\n",
       "          0.0000, 0.0000, 0.0000, 0.0000],\n",
       "         [0.0000, 0.0000, 0.0000, 0.0000, 0.0000, 0.0000, 0.0000, 0.0000,\n",
       "          0.0000, 0.0000, 0.0000, 0.0000, 0.0000, 0.0000, 0.0000, 0.0627,\n",
       "          0.3647, 0.9882, 0.9922, 0.7333, 0.0000, 0.0000, 0.0000, 0.0000,\n",
       "          0.0000, 0.0000, 0.0000, 0.0000],\n",
       "         [0.0000, 0.0000, 0.0000, 0.0000, 0.0000, 0.0000, 0.0000, 0.0000,\n",
       "          0.0000, 0.0000, 0.0000, 0.0000, 0.0000, 0.0000, 0.0000, 0.0000,\n",
       "          0.0000, 0.9765, 0.9922, 0.9765, 0.2510, 0.0000, 0.0000, 0.0000,\n",
       "          0.0000, 0.0000, 0.0000, 0.0000],\n",
       "         [0.0000, 0.0000, 0.0000, 0.0000, 0.0000, 0.0000, 0.0000, 0.0000,\n",
       "          0.0000, 0.0000, 0.0000, 0.0000, 0.0000, 0.0000, 0.1804, 0.5098,\n",
       "          0.7176, 0.9922, 0.9922, 0.8118, 0.0078, 0.0000, 0.0000, 0.0000,\n",
       "          0.0000, 0.0000, 0.0000, 0.0000],\n",
       "         [0.0000, 0.0000, 0.0000, 0.0000, 0.0000, 0.0000, 0.0000, 0.0000,\n",
       "          0.0000, 0.0000, 0.0000, 0.0000, 0.1529, 0.5804, 0.8980, 0.9922,\n",
       "          0.9922, 0.9922, 0.9804, 0.7137, 0.0000, 0.0000, 0.0000, 0.0000,\n",
       "          0.0000, 0.0000, 0.0000, 0.0000],\n",
       "         [0.0000, 0.0000, 0.0000, 0.0000, 0.0000, 0.0000, 0.0000, 0.0000,\n",
       "          0.0000, 0.0000, 0.0941, 0.4471, 0.8667, 0.9922, 0.9922, 0.9922,\n",
       "          0.9922, 0.7882, 0.3059, 0.0000, 0.0000, 0.0000, 0.0000, 0.0000,\n",
       "          0.0000, 0.0000, 0.0000, 0.0000],\n",
       "         [0.0000, 0.0000, 0.0000, 0.0000, 0.0000, 0.0000, 0.0000, 0.0000,\n",
       "          0.0902, 0.2588, 0.8353, 0.9922, 0.9922, 0.9922, 0.9922, 0.7765,\n",
       "          0.3176, 0.0078, 0.0000, 0.0000, 0.0000, 0.0000, 0.0000, 0.0000,\n",
       "          0.0000, 0.0000, 0.0000, 0.0000],\n",
       "         [0.0000, 0.0000, 0.0000, 0.0000, 0.0000, 0.0000, 0.0706, 0.6706,\n",
       "          0.8588, 0.9922, 0.9922, 0.9922, 0.9922, 0.7647, 0.3137, 0.0353,\n",
       "          0.0000, 0.0000, 0.0000, 0.0000, 0.0000, 0.0000, 0.0000, 0.0000,\n",
       "          0.0000, 0.0000, 0.0000, 0.0000],\n",
       "         [0.0000, 0.0000, 0.0000, 0.0000, 0.2157, 0.6745, 0.8863, 0.9922,\n",
       "          0.9922, 0.9922, 0.9922, 0.9569, 0.5216, 0.0431, 0.0000, 0.0000,\n",
       "          0.0000, 0.0000, 0.0000, 0.0000, 0.0000, 0.0000, 0.0000, 0.0000,\n",
       "          0.0000, 0.0000, 0.0000, 0.0000],\n",
       "         [0.0000, 0.0000, 0.0000, 0.0000, 0.5333, 0.9922, 0.9922, 0.9922,\n",
       "          0.8314, 0.5294, 0.5176, 0.0627, 0.0000, 0.0000, 0.0000, 0.0000,\n",
       "          0.0000, 0.0000, 0.0000, 0.0000, 0.0000, 0.0000, 0.0000, 0.0000,\n",
       "          0.0000, 0.0000, 0.0000, 0.0000],\n",
       "         [0.0000, 0.0000, 0.0000, 0.0000, 0.0000, 0.0000, 0.0000, 0.0000,\n",
       "          0.0000, 0.0000, 0.0000, 0.0000, 0.0000, 0.0000, 0.0000, 0.0000,\n",
       "          0.0000, 0.0000, 0.0000, 0.0000, 0.0000, 0.0000, 0.0000, 0.0000,\n",
       "          0.0000, 0.0000, 0.0000, 0.0000],\n",
       "         [0.0000, 0.0000, 0.0000, 0.0000, 0.0000, 0.0000, 0.0000, 0.0000,\n",
       "          0.0000, 0.0000, 0.0000, 0.0000, 0.0000, 0.0000, 0.0000, 0.0000,\n",
       "          0.0000, 0.0000, 0.0000, 0.0000, 0.0000, 0.0000, 0.0000, 0.0000,\n",
       "          0.0000, 0.0000, 0.0000, 0.0000],\n",
       "         [0.0000, 0.0000, 0.0000, 0.0000, 0.0000, 0.0000, 0.0000, 0.0000,\n",
       "          0.0000, 0.0000, 0.0000, 0.0000, 0.0000, 0.0000, 0.0000, 0.0000,\n",
       "          0.0000, 0.0000, 0.0000, 0.0000, 0.0000, 0.0000, 0.0000, 0.0000,\n",
       "          0.0000, 0.0000, 0.0000, 0.0000]]])"
      ]
     },
     "execution_count": 18,
     "metadata": {},
     "output_type": "execute_result"
    }
   ],
   "source": [
    "train_dataset[0]"
   ]
  },
  {
   "cell_type": "code",
   "execution_count": 20,
   "metadata": {},
   "outputs": [],
   "source": [
    "x = train_dataset[:10]\n",
    "z = model.encoder(x).embedding\n",
    "x_rec = model.decoder(z).reconstruction"
   ]
  },
  {
   "cell_type": "code",
   "execution_count": 26,
   "metadata": {},
   "outputs": [
    {
     "name": "stdout",
     "output_type": "stream",
     "text": [
      "Collecting package metadata (current_repodata.json): done\n",
      "Solving environment: - \n",
      "\n",
      "Updating matplotlib is constricted by \n",
      "\n",
      "anaconda -> requires matplotlib==3.5.1=py39hecd8cb5_1\n",
      "\n",
      "If you are sure you want an update of your package either try `conda update --all` or install a specific version of the package you want using `conda install <pkg>=<version>`\n",
      "\n",
      "done\n",
      "\n",
      "## Package Plan ##\n",
      "\n",
      "  environment location: /Users/louis/opt/anaconda3\n",
      "\n",
      "  added / updated specs:\n",
      "    - matplotlib\n",
      "\n",
      "\n",
      "The following packages will be downloaded:\n",
      "\n",
      "    package                    |            build\n",
      "    ---------------------------|-----------------\n",
      "    conda-22.11.1              |   py39hecd8cb5_3         941 KB\n",
      "    conda-package-handling-1.9.0|   py39hca72f7f_1         1.5 MB\n",
      "    pyjwt-2.4.0                |   py39hecd8cb5_0          35 KB\n",
      "    ruamel.yaml-0.17.21        |   py39hca72f7f_0         179 KB\n",
      "    ruamel.yaml.clib-0.2.6     |   py39hca72f7f_1         126 KB\n",
      "    ------------------------------------------------------------\n",
      "                                           Total:         2.8 MB\n",
      "\n",
      "The following NEW packages will be INSTALLED:\n",
      "\n",
      "  ruamel.yaml        pkgs/main/osx-64::ruamel.yaml-0.17.21-py39hca72f7f_0 None\n",
      "  ruamel.yaml.clib   pkgs/main/osx-64::ruamel.yaml.clib-0.2.6-py39hca72f7f_1 None\n",
      "\n",
      "The following packages will be UPDATED:\n",
      "\n",
      "  conda                               22.9.0-py39hecd8cb5_0 --> 22.11.1-py39hecd8cb5_3 None\n",
      "  conda-package-han~                   1.8.1-py39hca72f7f_0 --> 1.9.0-py39hca72f7f_1 None\n",
      "  pyjwt                                2.1.0-py39hecd8cb5_0 --> 2.4.0-py39hecd8cb5_0 None\n",
      "\n",
      "\n",
      "Proceed ([y]/n)? ^C\n",
      "\n",
      "CondaSystemExit: \n",
      "Operation aborted.  Exiting.\n",
      "\n"
     ]
    }
   ],
   "source": [
    "!conda update matplotlib"
   ]
  },
  {
   "cell_type": "code",
   "execution_count": 33,
   "metadata": {},
   "outputs": [
    {
     "data": {
      "text/plain": [
       "<matplotlib.image.AxesImage at 0x7fbad02b7bb0>"
      ]
     },
     "execution_count": 33,
     "metadata": {},
     "output_type": "execute_result"
    },
    {
     "data": {
      "image/png": "[encoded data removed]",
      "text/plain": [
       "<Figure size 640x480 with 1 Axes>"
      ]
     },
     "metadata": {},
     "output_type": "display_data"
    }
   ],
   "source": [
    "import matplotlib.pyplot as plt\n",
    "plt.imshow(x_rec[3].detach()[0])"
   ]
  },
  {
   "cell_type": "code",
   "execution_count": 31,
   "metadata": {},
   "outputs": [
    {
     "name": "stdout",
     "output_type": "stream",
     "text": [
      "tensor([[ 0.0246,  0.0197, -0.0422,  ...,  0.0372,  0.0016, -0.0013],\n",
      "        [ 0.0246,  0.0197, -0.0422,  ...,  0.0372,  0.0016, -0.0013],\n",
      "        [ 0.0277,  0.0211, -0.0342,  ...,  0.0384,  0.0036,  0.0015],\n",
      "        ...,\n",
      "        [ 0.0246,  0.0197, -0.0422,  ...,  0.0372,  0.0016, -0.0013],\n",
      "        [ 0.0216,  0.0195, -0.0413,  ...,  0.0346,  0.0059, -0.0026],\n",
      "        [ 0.0244,  0.0198, -0.0424,  ...,  0.0371,  0.0013, -0.0014]],\n",
      "       grad_fn=<AddmmBackward0>)\n"
     ]
    }
   ],
   "source": [
    "print(z)"
   ]
  },
  {
   "cell_type": "code",
   "execution_count": null,
   "metadata": {
    "id": "DpyISPS48041"
   },
   "outputs": [],
   "source": [
    "import os\n",
    "from pythae.models import AutoModel"
   ]
  },
  {
   "cell_type": "code",
   "execution_count": null,
   "metadata": {
    "id": "ykdg1I_t8041"
   },
   "outputs": [],
   "source": [
    "last_training = sorted(os.listdir('my_model'))[-1]\n",
    "trained_model = AutoModel.load_from_folder(os.path.join('my_model', last_training, 'final_model'))"
   ]
  },
  {
   "cell_type": "code",
   "execution_count": null,
   "metadata": {
    "id": "YKlSphBI8041"
   },
   "outputs": [],
   "source": [
    "from pythae.samplers import NormalSampler"
   ]
  },
  {
   "cell_type": "code",
   "execution_count": null,
   "metadata": {
    "id": "W7ZQiPLA8042"
   },
   "outputs": [],
   "source": [
    "# create normal sampler\n",
    "normal_samper = NormalSampler(\n",
    "    model=trained_model\n",
    ")"
   ]
  },
  {
   "cell_type": "code",
   "execution_count": null,
   "metadata": {
    "id": "8tH_T3XY8042"
   },
   "outputs": [],
   "source": [
    "# sample\n",
    "gen_data = normal_samper.sample(\n",
    "    num_samples=25\n",
    ")"
   ]
  },
  {
   "cell_type": "code",
   "execution_count": null,
   "metadata": {
    "id": "iqrYkb1N8042"
   },
   "outputs": [],
   "source": [
    "import matplotlib.pyplot as plt"
   ]
  },
  {
   "cell_type": "code",
   "execution_count": null,
   "metadata": {
    "id": "2NqfFbeN8042"
   },
   "outputs": [],
   "source": [
    "# show results with normal sampler\n",
    "fig, axes = plt.subplots(nrows=5, ncols=5, figsize=(10, 10))\n",
    "\n",
    "for i in range(5):\n",
    "    for j in range(5):\n",
    "        axes[i][j].imshow(gen_data[i*5 +j].cpu().squeeze(0), cmap='gray')\n",
    "        axes[i][j].axis('off')\n",
    "plt.tight_layout(pad=0.)"
   ]
  },
  {
   "cell_type": "code",
   "execution_count": null,
   "metadata": {
    "id": "BGn-niYX8042"
   },
   "outputs": [],
   "source": [
    "from pythae.samplers import GaussianMixtureSampler, GaussianMixtureSamplerConfig"
   ]
  },
  {
   "cell_type": "code",
   "execution_count": null,
   "metadata": {
    "id": "4K9kcH0y8042"
   },
   "outputs": [],
   "source": [
    "# set up GMM sampler config\n",
    "gmm_sampler_config = GaussianMixtureSamplerConfig(\n",
    "    n_components=10\n",
    ")\n",
    "\n",
    "# create gmm sampler\n",
    "gmm_sampler = GaussianMixtureSampler(\n",
    "    sampler_config=gmm_sampler_config,\n",
    "    model=trained_model\n",
    ")\n",
    "\n",
    "# fit the sampler\n",
    "gmm_sampler.fit(train_dataset)"
   ]
  },
  {
   "cell_type": "code",
   "execution_count": null,
   "metadata": {
    "id": "lloDLiOe8043"
   },
   "outputs": [],
   "source": [
    "# sample\n",
    "gen_data = gmm_sampler.sample(\n",
    "    num_samples=25\n",
    ")"
   ]
  },
  {
   "cell_type": "code",
   "execution_count": null,
   "metadata": {
    "id": "k3fXB2zb8043"
   },
   "outputs": [],
   "source": [
    "# show results with gmm sampler\n",
    "fig, axes = plt.subplots(nrows=5, ncols=5, figsize=(10, 10))\n",
    "\n",
    "for i in range(5):\n",
    "    for j in range(5):\n",
    "        axes[i][j].imshow(gen_data[i*5 +j].cpu().squeeze(0), cmap='gray')\n",
    "        axes[i][j].axis('off')\n",
    "plt.tight_layout(pad=0.)"
   ]
  },
  {
   "cell_type": "markdown",
   "metadata": {
    "id": "nj0tOb7t8043"
   },
   "source": [
    "## ... the other samplers work the same"
   ]
  },
  {
   "cell_type": "markdown",
   "metadata": {
    "id": "JqfHhaE38043"
   },
   "source": [
    "## Visualizing reconstructions"
   ]
  },
  {
   "cell_type": "code",
   "execution_count": null,
   "metadata": {
    "id": "JOm-5zbi8043"
   },
   "outputs": [],
   "source": [
    "reconstructions = trained_model.reconstruct(eval_dataset[:25].to(device)).detach().cpu()"
   ]
  },
  {
   "cell_type": "code",
   "execution_count": null,
   "metadata": {
    "id": "PjGtIoSH8044"
   },
   "outputs": [],
   "source": [
    "# show reconstructions\n",
    "fig, axes = plt.subplots(nrows=5, ncols=5, figsize=(10, 10))\n",
    "\n",
    "for i in range(5):\n",
    "    for j in range(5):\n",
    "        axes[i][j].imshow(reconstructions[i*5 + j].cpu().squeeze(0), cmap='gray')\n",
    "        axes[i][j].axis('off')\n",
    "plt.tight_layout(pad=0.)"
   ]
  },
  {
   "cell_type": "code",
   "execution_count": null,
   "metadata": {
    "id": "Dv1hGuac8044"
   },
   "outputs": [],
   "source": [
    "# show the true data\n",
    "fig, axes = plt.subplots(nrows=5, ncols=5, figsize=(10, 10))\n",
    "\n",
    "for i in range(5):\n",
    "    for j in range(5):\n",
    "        axes[i][j].imshow(eval_dataset[i*5 +j].cpu().squeeze(0), cmap='gray')\n",
    "        axes[i][j].axis('off')\n",
    "plt.tight_layout(pad=0.)"
   ]
  },
  {
   "cell_type": "markdown",
   "metadata": {
    "id": "1gC9SpKU8044"
   },
   "source": [
    "## Visualizing interpolations"
   ]
  },
  {
   "cell_type": "code",
   "execution_count": null,
   "metadata": {
    "id": "IZjhayQv8044"
   },
   "outputs": [],
   "source": [
    "interpolations = trained_model.interpolate(eval_dataset[:5].to(device), eval_dataset[5:10].to(device), granularity=10).detach().cpu()"
   ]
  },
  {
   "cell_type": "code",
   "execution_count": null,
   "metadata": {
    "id": "a7MWlY1w8045"
   },
   "outputs": [],
   "source": [
    "# show interpolations\n",
    "fig, axes = plt.subplots(nrows=5, ncols=10, figsize=(10, 5))\n",
    "\n",
    "for i in range(5):\n",
    "    for j in range(10):\n",
    "        axes[i][j].imshow(interpolations[i, j].cpu().squeeze(0), cmap='gray')\n",
    "        axes[i][j].axis('off')\n",
    "plt.tight_layout(pad=0.)"
   ]
  }
 ],
 "metadata": {
  "colab": {
   "provenance": []
  },
  "interpreter": {
   "hash": "3efa06c4da850a09a4898b773c7e91b0da3286dbbffa369a8099a14a8fa43098"
  },
  "kernelspec": {
   "display_name": "Python 3 (ipykernel)",
   "language": "python",
   "name": "python3"
  },
  "language_info": {
   "codemirror_mode": {
    "name": "ipython",
    "version": 3
   },
   "file_extension": ".py",
   "mimetype": "text/x-python",
   "name": "python",
   "nbconvert_exporter": "python",
   "pygments_lexer": "ipython3",
   "version": "3.8.15"
  }
 },
 "nbformat": 4,
 "nbformat_minor": 1
}
